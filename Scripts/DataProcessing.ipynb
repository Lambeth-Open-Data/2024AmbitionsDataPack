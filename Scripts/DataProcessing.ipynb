{
 "cells": [
  {
   "cell_type": "code",
   "execution_count": 1,
   "id": "35dc1560",
   "metadata": {},
   "outputs": [],
   "source": [
    "import pandas as pd\n",
    "import os"
   ]
  },
  {
   "cell_type": "code",
   "execution_count": 37,
   "id": "be1ce52c",
   "metadata": {},
   "outputs": [],
   "source": [
    "# Read the Excel file containing file names of datasets\n",
    "data_sources = pd.read_excel('Data sources ambitions.xlsx', sheet_name='Sources')"
   ]
  },
  {
   "cell_type": "code",
   "execution_count": 39,
   "id": "46990051",
   "metadata": {},
   "outputs": [
    {
     "name": "stdout",
     "output_type": "stream",
     "text": [
      "..\\Data\\Ambition 1\\nan\\nan\n",
      "..\\Data\\Ambition 1\\Health and Wellbeing\\nan\n",
      "..\\Data\\Ambition 1\\Health and Wellbeing\\nan\n",
      "..\\Data\\Ambition 1\\Health and Wellbeing\\nan\n",
      "..\\Data\\Ambition 1\\Health and Wellbeing\\nan\n",
      "..\\Data\\Ambition 1\\Health and Wellbeing\\2023 ARS toplines.xlsx\n",
      "..\\Data\\Ambition 1\\Health and Wellbeing\\nan\n",
      "..\\Data\\Ambition 1\\Health and Wellbeing\\nan\n",
      "..\\Data\\Ambition 1\\Health and Wellbeing\\nan\n",
      "..\\Data\\Ambition 1\\Health and Wellbeing\\nan\n",
      "..\\Data\\Ambition 1\\Health and Wellbeing\\nan\n",
      "..\\Data\\Ambition 1\\Health and Wellbeing\\nan\n",
      "..\\Data\\Ambition 1\\Health and Wellbeing\\nan\n",
      "..\\Data\\Ambition 1\\Health and Wellbeing\\nan\n",
      "..\\Data\\Ambition 1\\Health and Wellbeing\\nan\n",
      "..\\Data\\Ambition 1\\Health and Wellbeing\\nan\n",
      "..\\Data\\Ambition 1\\Health and Wellbeing\\nan\n",
      "..\\Data\\Ambition 1\\Health and Wellbeing\\nan\n",
      "..\\Data\\Ambition 1\\Health and Wellbeing\\nan\n",
      "..\\Data\\Ambition 1\\Health and Wellbeing\\nan\n",
      "..\\Data\\Ambition 1\\Health and Wellbeing\\nan\n",
      "..\\Data\\Ambition 1\\Health and Wellbeing\\nan\n",
      "..\\Data\\Ambition 1\\Health and Wellbeing\\nan\n",
      "..\\Data\\Ambition 1\\Health and Wellbeing\\nan\n",
      "..\\Data\\Ambition 1\\nan\\nan\n",
      "..\\Data\\Ambition 1\\Environment\\nan\n",
      "..\\Data\\Ambition 1\\Environment\\nan\n",
      "..\\Data\\Ambition 1\\Environment\\nan\n",
      "..\\Data\\Ambition 1\\Environment\\nan\n",
      "..\\Data\\Ambition 1\\Environment\\nan\n",
      "..\\Data\\Ambition 1\\Environment\\nan\n",
      "..\\Data\\Ambition 1\\Environment\\nan\n",
      "..\\Data\\Ambition 1\\Environment\\nan\n",
      "..\\Data\\Ambition 2\\nan\\nan\n",
      "..\\Data\\Ambition 2\\Crime, Safety & Justice\\nan\n",
      "..\\Data\\Ambition 2\\Crime, Safety & Justice\\nan\n",
      "..\\Data\\Ambition 2\\Crime, Safety & Justice\\nan\n",
      "..\\Data\\Ambition 2\\Crime, Safety & Justice\\nan\n",
      "..\\Data\\Ambition 2\\Crime, Safety & Justice\\nan\n",
      "..\\Data\\Ambition 2\\Crime, Safety & Justice\\nan\n",
      "..\\Data\\Ambition 2\\Crime, Safety & Justice\\nan\n",
      "..\\Data\\Ambition 2\\Crime, Safety & Justice\\nan\n",
      "..\\Data\\Ambition 2\\Crime, Safety & Justice\\nan\n",
      "..\\Data\\Ambition 2\\Crime, Safety & Justice\\nan\n",
      "..\\Data\\Ambition 2\\Crime, Safety & Justice\\nan\n",
      "..\\Data\\Ambition 2\\Crime, Safety & Justice\\nan\n",
      "..\\Data\\Ambition 2\\Crime, Safety & Justice\\2023 ARS toplines.xlsx\n",
      "..\\Data\\Ambition 2\\Crime, Safety & Justice\\nan\n",
      "..\\Data\\Ambition 3\\nan\\nan\n",
      "..\\Data\\Ambition 3\\Key demographics\\nan\n",
      "..\\Data\\Ambition 3\\Key demographics\\nan\n",
      "..\\Data\\Ambition 3\\Key demographics\\nan\n",
      "..\\Data\\Ambition 3\\Key demographics\\nan\n",
      "..\\Data\\Ambition 3\\Key demographics\\TS024_main_language_census_2021.xlsx\n",
      "..\\Data\\Ambition 3\\Key demographics\\TS029_english_profic_census_2021.xlsx\n",
      "..\\Data\\Ambition 3\\Key demographics\\TS022_ethnic_group_census_2021.xlsx\n",
      "..\\Data\\Ambition 3\\Key demographics\\TS031_religion_census_2021.xlsx\n",
      "..\\Data\\Ambition 3\\Key demographics\\TS077_sexual_orientation_census_2021.xlsx\n"
     ]
    },
    {
     "name": "stderr",
     "output_type": "stream",
     "text": [
      "C:\\Users\\JKim\\AppData\\Local\\anaconda3\\Lib\\site-packages\\openpyxl\\styles\\stylesheet.py:226: UserWarning: Workbook contains no default style, apply openpyxl's default\n",
      "  warn(\"Workbook contains no default style, apply openpyxl's default\")\n",
      "C:\\Users\\JKim\\AppData\\Local\\anaconda3\\Lib\\site-packages\\openpyxl\\styles\\stylesheet.py:226: UserWarning: Workbook contains no default style, apply openpyxl's default\n",
      "  warn(\"Workbook contains no default style, apply openpyxl's default\")\n",
      "C:\\Users\\JKim\\AppData\\Local\\anaconda3\\Lib\\site-packages\\openpyxl\\styles\\stylesheet.py:226: UserWarning: Workbook contains no default style, apply openpyxl's default\n",
      "  warn(\"Workbook contains no default style, apply openpyxl's default\")\n",
      "C:\\Users\\JKim\\AppData\\Local\\anaconda3\\Lib\\site-packages\\openpyxl\\styles\\stylesheet.py:226: UserWarning: Workbook contains no default style, apply openpyxl's default\n",
      "  warn(\"Workbook contains no default style, apply openpyxl's default\")\n",
      "C:\\Users\\JKim\\AppData\\Local\\anaconda3\\Lib\\site-packages\\openpyxl\\styles\\stylesheet.py:226: UserWarning: Workbook contains no default style, apply openpyxl's default\n",
      "  warn(\"Workbook contains no default style, apply openpyxl's default\")\n"
     ]
    },
    {
     "name": "stdout",
     "output_type": "stream",
     "text": [
      "..\\Data\\Ambition 3\\Key demographics\\TS078_gender_identity_census_2021.xlsx\n",
      "..\\Data\\Ambition 3\\nan\\nan\n",
      "..\\Data\\Ambition 3\\Jobs, earnings, and businesses\\Pop simple 16-64 2022.xlsx\n",
      "..\\Data\\Ambition 3\\Jobs, earnings, and businesses\\local units type 2023 NOMIS.xlsx\n",
      "..\\Data\\Ambition 3\\Jobs, earnings, and businesses\\Qualifications NOMIS 2023.xlsx\n",
      "..\\Data\\Ambition 3\\Jobs, earnings, and businesses\\Weekly earnings 2023.xlsx\n"
     ]
    },
    {
     "name": "stderr",
     "output_type": "stream",
     "text": [
      "C:\\Users\\JKim\\AppData\\Local\\anaconda3\\Lib\\site-packages\\openpyxl\\styles\\stylesheet.py:226: UserWarning: Workbook contains no default style, apply openpyxl's default\n",
      "  warn(\"Workbook contains no default style, apply openpyxl's default\")\n",
      "C:\\Users\\JKim\\AppData\\Local\\anaconda3\\Lib\\site-packages\\openpyxl\\styles\\stylesheet.py:226: UserWarning: Workbook contains no default style, apply openpyxl's default\n",
      "  warn(\"Workbook contains no default style, apply openpyxl's default\")\n",
      "C:\\Users\\JKim\\AppData\\Local\\anaconda3\\Lib\\site-packages\\openpyxl\\styles\\stylesheet.py:226: UserWarning: Workbook contains no default style, apply openpyxl's default\n",
      "  warn(\"Workbook contains no default style, apply openpyxl's default\")\n",
      "C:\\Users\\JKim\\AppData\\Local\\anaconda3\\Lib\\site-packages\\openpyxl\\styles\\stylesheet.py:226: UserWarning: Workbook contains no default style, apply openpyxl's default\n",
      "  warn(\"Workbook contains no default style, apply openpyxl's default\")\n",
      "C:\\Users\\JKim\\AppData\\Local\\anaconda3\\Lib\\site-packages\\openpyxl\\styles\\stylesheet.py:226: UserWarning: Workbook contains no default style, apply openpyxl's default\n",
      "  warn(\"Workbook contains no default style, apply openpyxl's default\")\n"
     ]
    },
    {
     "name": "stdout",
     "output_type": "stream",
     "text": [
      "..\\Data\\Ambition 3\\Jobs, earnings, and businesses\\PROV - Work Geography LWF Table 7 LWF.1a   lwfmgx 2023.xls\n",
      "..\\Data\\Ambition 3\\Jobs, earnings, and businesses\\Unemployment 16+ Sex and Ethnicity.xlsx\n"
     ]
    },
    {
     "name": "stderr",
     "output_type": "stream",
     "text": [
      "C:\\Users\\JKim\\AppData\\Local\\anaconda3\\Lib\\site-packages\\openpyxl\\styles\\stylesheet.py:226: UserWarning: Workbook contains no default style, apply openpyxl's default\n",
      "  warn(\"Workbook contains no default style, apply openpyxl's default\")\n",
      "C:\\Users\\JKim\\AppData\\Local\\anaconda3\\Lib\\site-packages\\openpyxl\\styles\\stylesheet.py:226: UserWarning: Workbook contains no default style, apply openpyxl's default\n",
      "  warn(\"Workbook contains no default style, apply openpyxl's default\")\n"
     ]
    },
    {
     "name": "stdout",
     "output_type": "stream",
     "text": [
      "..\\Data\\Ambition 3\\Jobs, earnings, and businesses\\nan\n",
      "..\\Data\\Ambition 3\\Jobs, earnings, and businesses\\distance_to_work_census_2021.xlsx\n",
      "..\\Data\\Ambition 3\\Jobs, earnings, and businesses\\nan\n",
      "..\\Data\\Ambition 3\\Jobs, earnings, and businesses\\nan\n",
      "..\\Data\\Ambition 3\\nan\\nan\n",
      "..\\Data\\Ambition 3\\Cost of living\\2023 ARS toplines.xlsx\n",
      "..\\Data\\Ambition 3\\Cost of living\\nan\n",
      "..\\Data\\Ambition 3\\Cost of living\\children-in-low-income-families-local-area-statistics-2014-to-2022.xlsx\n",
      "..\\Data\\Ambition 3\\Cost of living\\DWP statxplore pension credit aug 2018-2023.xlsx\n",
      "..\\Data\\Ambition 3\\Cost of living\\localincomedeprivationdata.xlsx\n",
      "..\\Data\\Ambition 3\\nan\\nan\n",
      "..\\Data\\Ambition 3\\Education\\2_early_years_provision_provider_type_2018_2023.csv\n",
      "..\\Data\\Ambition 3\\Education\\5_early_years_provision_ofsted_2018_2023_corrected.csv\n",
      "..\\Data\\Ambition 3\\Education\\2_eyfsp_early_learning_goals_areas_of_learning_2022_2023.csv\n"
     ]
    },
    {
     "name": "stderr",
     "output_type": "stream",
     "text": [
      "C:\\Users\\JKim\\AppData\\Local\\Temp\\ipykernel_23764\\524504855.py:18: DtypeWarning: Columns (7,8,9,10,11,17,18,19,20,21) have mixed types. Specify dtype option on import or set low_memory=False.\n",
      "  dataframes[variable_name] = pd.read_csv(file_path)\n"
     ]
    },
    {
     "name": "stdout",
     "output_type": "stream",
     "text": [
      "..\\Data\\Ambition 3\\Education\\ks2_national_pupil_characteristics_2016_to_2023_revised.csv\n",
      "..\\Data\\Ambition 3\\Education\\2223_la_data_revised.csv\n",
      "..\\Data\\Ambition 3\\Education\\2223_la_char_data_revised.csv\n"
     ]
    },
    {
     "name": "stderr",
     "output_type": "stream",
     "text": [
      "C:\\Users\\JKim\\AppData\\Local\\Temp\\ipykernel_23764\\524504855.py:18: DtypeWarning: Columns (11,12,25,26,27,28,29,30,31,32,33,34,35,36,37,38,39,40,41) have mixed types. Specify dtype option on import or set low_memory=False.\n",
      "  dataframes[variable_name] = pd.read_csv(file_path)\n"
     ]
    },
    {
     "name": "stdout",
     "output_type": "stream",
     "text": [
      "..\\Data\\Ambition 3\\Education\\2223_sl_lad_fsm_dis_data_revised.csv\n",
      "..\\Data\\Ambition 3\\Education\\data-16-18-destination-measures-merged.csv\n",
      "..\\Data\\Ambition 3\\Education\\data-participation-in-education-training-and-neet-age-16-to-17-by-local-authority.csv\n",
      "..\\Data\\Ambition 3\\Education\\data-la-and-school-expenditure.csv\n",
      "..\\Data\\Ambition 3\\nan\\nan\n",
      "..\\Data\\Ambition 3\\Housing and infrastructure\\Tenure_census_2021_TS054.xlsx\n"
     ]
    },
    {
     "name": "stderr",
     "output_type": "stream",
     "text": [
      "C:\\Users\\JKim\\AppData\\Local\\anaconda3\\Lib\\site-packages\\openpyxl\\styles\\stylesheet.py:226: UserWarning: Workbook contains no default style, apply openpyxl's default\n",
      "  warn(\"Workbook contains no default style, apply openpyxl's default\")\n"
     ]
    },
    {
     "name": "stdout",
     "output_type": "stream",
     "text": [
      "..\\Data\\Ambition 3\\Housing and infrastructure\\LT_100.ods\n",
      "..\\Data\\Ambition 3\\Housing and infrastructure\\hpssadataset9medianpricepaidforadministrativegeographies.xls\n",
      "..\\Data\\Ambition 3\\Housing and infrastructure\\CTSOP1.0_SUPP.xlsx\n",
      "..\\Data\\Ambition 3\\Housing and infrastructure\\nan\n",
      "..\\Data\\Ambition 3\\Housing and infrastructure\\local_authority_traffic.csv\n",
      "..\\Data\\Ambition 3\\nan\\nan\n",
      "..\\Data\\Ambition 3\\Community\\2023 ARS toplines.xlsx\n",
      "..\\Data\\Ambition 3\\Community\\nan\n",
      "..\\Data\\Ambition 3\\Community\\nan\n",
      "..\\Data\\Ambition 3\\Community\\localauthorityandparliamentaryregistrationsandattainers.xlsx\n",
      "..\\Data\\Ambition 3\\Community\\2022 England Electoral Turnout data.xlsx\n",
      "..\\Data\\Ambition 3\\Community\\internetusers2020.xlsx\n",
      "..\\Data\\Ambition 3\\Community\\nan\n"
     ]
    }
   ],
   "source": [
    "dataframes = {}\n",
    "# Iterate over the rows to get the file paths\n",
    "for index, row in data_sources.iterrows():\n",
    "    if pd.isna(row['Ambition']):\n",
    "        continue\n",
    "    ambition_folder = '..\\Data\\Ambition '+ str(int(row['Ambition'])) + '\\\\' + str(row['Section'])\n",
    "    file_name = str(row['File Name'])\n",
    "    variable_name = row['Internal link suffix']\n",
    "    \n",
    "    # Construct the file path\n",
    "    file_path = os.path.join(ambition_folder, file_name)\n",
    "    \n",
    "    # Here you would add your code to load the dataset\n",
    "    # For example, you might use pd.read_csv or pd.read_excel depending on the file extension\n",
    "    print(file_path)\n",
    "    # Load the data (example for CSV)\n",
    "    if file_path.endswith('.csv'):\n",
    "        dataframes[variable_name] = pd.read_csv(file_path)\n",
    "        # Perform operations on the data\n",
    "    elif file_path.endswith('.xlsx') or file_path.endswith('.xls'):\n",
    "        dataframes[variable_name] = pd.read_excel(file_path)\n",
    "        # Perform operations on the data\n",
    "\n",
    "    # For demonstration, we're just printing the file path\n",
    "    # In practice, you would replace this with code to load and process the data"
   ]
  },
  {
   "cell_type": "code",
   "execution_count": 42,
   "id": "81a2f158",
   "metadata": {},
   "outputs": [
    {
     "data": {
      "text/plain": [
       "dict_keys(['wellbeing---resident-survey', 'resident-survey-perception-of-safety', 'main-language', 'english-proficiency', 'ethnicity', 'religion', 'sexual-orientation', 'gender-identity', 'working-age-population', 'types-of-industry', 'qualifications', 'weekly-earnings-by-sex', 'earning-a-living-wage', 'unemployment-by-sex-and-ethnicity', 'distance-to-work', 'cost-of-living---resident-survey', 'children-in-low-income-households', 'pension-credit', 'census-measures-of-deprivation', 'early-years-providers', 'early-years-ofsted-ratings', 'early-years-areas-of-learning-performance', 'key-stage-2-performance', 'key-stage-4-performance', 'key-stage-4-performance-by-ethnicity', 'key-stage-4-performance-gap', 'key-stage-5-progression', 'neet-16-17-year-olds', 'education-funding', 'tenure-type', 'house-prices', 'council-tax-bands', 'road-traffic', 'resident-survey-results---overall-and-council', 'electoral-registration', 'local-election-turnout', 'internet-users'])"
      ]
     },
     "execution_count": 42,
     "metadata": {},
     "output_type": "execute_result"
    }
   ],
   "source": [
    "dataframes.keys()"
   ]
  },
  {
   "cell_type": "code",
   "execution_count": 43,
   "id": "8c11e3cb",
   "metadata": {},
   "outputs": [
    {
     "data": {
      "text/html": [
       "<div>\n",
       "<style scoped>\n",
       "    .dataframe tbody tr th:only-of-type {\n",
       "        vertical-align: middle;\n",
       "    }\n",
       "\n",
       "    .dataframe tbody tr th {\n",
       "        vertical-align: top;\n",
       "    }\n",
       "\n",
       "    .dataframe thead th {\n",
       "        text-align: right;\n",
       "    }\n",
       "</style>\n",
       "<table border=\"1\" class=\"dataframe\">\n",
       "  <thead>\n",
       "    <tr style=\"text-align: right;\">\n",
       "      <th></th>\n",
       "      <th>Unnamed: 0</th>\n",
       "      <th>Table of Contents</th>\n",
       "      <th>Unnamed: 2</th>\n",
       "      <th>Unnamed: 3</th>\n",
       "    </tr>\n",
       "  </thead>\n",
       "  <tbody>\n",
       "    <tr>\n",
       "      <th>0</th>\n",
       "      <td>NaN</td>\n",
       "      <td>NaN</td>\n",
       "      <td>NaN</td>\n",
       "      <td>NaN</td>\n",
       "    </tr>\n",
       "    <tr>\n",
       "      <th>1</th>\n",
       "      <td>NaN</td>\n",
       "      <td>1.0</td>\n",
       "      <td>S01</td>\n",
       "      <td>Sex - Filter: All respondents_x000D_\\n Share o...</td>\n",
       "    </tr>\n",
       "    <tr>\n",
       "      <th>2</th>\n",
       "      <td>NaN</td>\n",
       "      <td>2.0</td>\n",
       "      <td>S02</td>\n",
       "      <td>Age - Filter: All respondents_x000D_\\n Share o...</td>\n",
       "    </tr>\n",
       "    <tr>\n",
       "      <th>3</th>\n",
       "      <td>NaN</td>\n",
       "      <td>3.0</td>\n",
       "      <td>S03</td>\n",
       "      <td>Disability - Filter: All respondents_x000D_\\n ...</td>\n",
       "    </tr>\n",
       "    <tr>\n",
       "      <th>4</th>\n",
       "      <td>NaN</td>\n",
       "      <td>4.0</td>\n",
       "      <td>S04</td>\n",
       "      <td>Health condition - Filter: Respondents with a ...</td>\n",
       "    </tr>\n",
       "    <tr>\n",
       "      <th>...</th>\n",
       "      <td>...</td>\n",
       "      <td>...</td>\n",
       "      <td>...</td>\n",
       "      <td>...</td>\n",
       "    </tr>\n",
       "    <tr>\n",
       "      <th>69</th>\n",
       "      <td>NaN</td>\n",
       "      <td>69.0</td>\n",
       "      <td>Q039</td>\n",
       "      <td>Do you look after, or give any regular help or...</td>\n",
       "    </tr>\n",
       "    <tr>\n",
       "      <th>70</th>\n",
       "      <td>NaN</td>\n",
       "      <td>70.0</td>\n",
       "      <td>NEWQ40</td>\n",
       "      <td>Which languages do you regularly speak at home...</td>\n",
       "    </tr>\n",
       "    <tr>\n",
       "      <th>71</th>\n",
       "      <td>NaN</td>\n",
       "      <td>71.0</td>\n",
       "      <td>Q041</td>\n",
       "      <td>Which of these best describes your religion? -...</td>\n",
       "    </tr>\n",
       "    <tr>\n",
       "      <th>72</th>\n",
       "      <td>NaN</td>\n",
       "      <td>72.0</td>\n",
       "      <td>Q042</td>\n",
       "      <td>Which of the following best describes your sex...</td>\n",
       "    </tr>\n",
       "    <tr>\n",
       "      <th>73</th>\n",
       "      <td>NaN</td>\n",
       "      <td>73.0</td>\n",
       "      <td>Q043</td>\n",
       "      <td>Do you identify, or have you ever identified, ...</td>\n",
       "    </tr>\n",
       "  </tbody>\n",
       "</table>\n",
       "<p>74 rows × 4 columns</p>\n",
       "</div>"
      ],
      "text/plain": [
       "    Unnamed: 0  Table of Contents Unnamed: 2  \\\n",
       "0          NaN                NaN        NaN   \n",
       "1          NaN                1.0        S01   \n",
       "2          NaN                2.0        S02   \n",
       "3          NaN                3.0        S03   \n",
       "4          NaN                4.0        S04   \n",
       "..         ...                ...        ...   \n",
       "69         NaN               69.0       Q039   \n",
       "70         NaN               70.0     NEWQ40   \n",
       "71         NaN               71.0       Q041   \n",
       "72         NaN               72.0       Q042   \n",
       "73         NaN               73.0       Q043   \n",
       "\n",
       "                                           Unnamed: 3  \n",
       "0                                                 NaN  \n",
       "1   Sex - Filter: All respondents_x000D_\\n Share o...  \n",
       "2   Age - Filter: All respondents_x000D_\\n Share o...  \n",
       "3   Disability - Filter: All respondents_x000D_\\n ...  \n",
       "4   Health condition - Filter: Respondents with a ...  \n",
       "..                                                ...  \n",
       "69  Do you look after, or give any regular help or...  \n",
       "70  Which languages do you regularly speak at home...  \n",
       "71  Which of these best describes your religion? -...  \n",
       "72  Which of the following best describes your sex...  \n",
       "73  Do you identify, or have you ever identified, ...  \n",
       "\n",
       "[74 rows x 4 columns]"
      ]
     },
     "execution_count": 43,
     "metadata": {},
     "output_type": "execute_result"
    }
   ],
   "source": [
    "dataframes['wellbeing---resident-survey']"
   ]
  }
 ],
 "metadata": {
  "kernelspec": {
   "display_name": "Python 3 (ipykernel)",
   "language": "python",
   "name": "python3"
  },
  "language_info": {
   "codemirror_mode": {
    "name": "ipython",
    "version": 3
   },
   "file_extension": ".py",
   "mimetype": "text/x-python",
   "name": "python",
   "nbconvert_exporter": "python",
   "pygments_lexer": "ipython3",
   "version": "3.11.4"
  }
 },
 "nbformat": 4,
 "nbformat_minor": 5
}
